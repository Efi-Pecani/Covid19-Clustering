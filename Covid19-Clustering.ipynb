{
 "cells": [
  {
   "cell_type": "markdown",
   "metadata": {},
   "source": [
    "## part 1"
   ]
  },
  {
   "cell_type": "code",
   "execution_count": 2,
   "metadata": {},
   "outputs": [],
   "source": [
    "#A\n",
    "import pandas as pd\n",
    "import sklearn\n"
   ]
  },
  {
   "cell_type": "markdown",
   "metadata": {},
   "source": [
    "Sklearn, which stands for Scikit-learn is a open source library which using mainly for machine learning and data\n",
    "science in Python.\n",
    "It's built upon the technology of other libraries like NumPy, pandas, and Matplotlib.\n",
    "Sklearn contains tools like statistical modeling including classification, regression, clustering and dimensionality reduction.\n"
   ]
  },
  {
   "cell_type": "code",
   "execution_count": 3,
   "metadata": {},
   "outputs": [],
   "source": [
    "#B\n",
    "def read_data_from_csv_file(file_name):\n",
    "    return pd.read_csv(file_name)\n",
    "ex2_data = read_data_from_csv_file (\"covid_19_clustring.csv\")"
   ]
  },
  {
   "cell_type": "code",
   "execution_count": 6,
   "metadata": {},
   "outputs": [
    {
     "name": "stdout",
     "output_type": "stream",
     "text": [
      "There are  3041 rows.\n",
      "There are  9 cols.\n"
     ]
    }
   ],
   "source": [
    "#C+D\n",
    "rows,cols = ex2_data.shape\n",
    "print (\"There are \",rows,\"rows.\")\n",
    "print (\"There are \",cols, \"cols.\")"
   ]
  },
  {
   "cell_type": "code",
   "execution_count": 46,
   "metadata": {},
   "outputs": [
    {
     "name": "stdout",
     "output_type": "stream",
     "text": [
      "The number of districts in USA in the data is: 56\n"
     ]
    }
   ],
   "source": [
    "#E\n",
    "#print(ex2_data.columns)\n",
    "print(\"The number of districts in USA in the data is:\", (len(set(ex2_data[\"state\"]))))"
   ]
  },
  {
   "cell_type": "markdown",
   "metadata": {},
   "source": [
    "# part 2"
   ]
  },
  {
   "cell_type": "code",
   "execution_count": 222,
   "metadata": {},
   "outputs": [],
   "source": [
    "# 3\n",
    "#print(ex2_data.columns)\n",
    "#print (ex2_data)\n",
    "#print (\"The categoric variable is\", ex2_data.columns[1] )"
   ]
  },
  {
   "cell_type": "markdown",
   "metadata": {},
   "source": [
    "# 3\n",
    "The categorical variable is: state"
   ]
  },
  {
   "cell_type": "code",
   "execution_count": 243,
   "metadata": {},
   "outputs": [
    {
     "name": "stdout",
     "output_type": "stream",
     "text": [
      "the numerics variables are:\n",
      "date\n",
      "positive\n",
      "negative\n",
      "hospitalizedCurrently\n",
      "recovered\n",
      "death\n",
      "hospitalized\n",
      "total\n"
     ]
    }
   ],
   "source": [
    "# 4\n",
    "#print (\"the numerics variables are:\")\n",
    "#for i in ex2_data.columns:\n",
    " #  if  i !=  ex2_data.columns[1]:\n",
    "  #      print (i)\n"
   ]
  },
  {
   "cell_type": "markdown",
   "metadata": {},
   "source": [
    "# 4\n",
    "The numerics variables are:date, positive, negative, hospitalizedCurrently,\n",
    "recovered, death, hospitalized, total."
   ]
  },
  {
   "cell_type": "code",
   "execution_count": 63,
   "metadata": {},
   "outputs": [
    {
     "name": "stdout",
     "output_type": "stream",
     "text": [
      "The average number of deaths per day in US is death    8120.438776\n",
      "dtype: float64\n"
     ]
    }
   ],
   "source": [
    "# 5\n",
    "print (\"The average number of deaths per day in US is\", ex2_data[[\"date\",\"death\"]].groupby([\"date\"]).sum().mean())"
   ]
  },
  {
   "cell_type": "code",
   "execution_count": 115,
   "metadata": {},
   "outputs": [
    {
     "name": "stdout",
     "output_type": "stream",
     "text": [
      "The state with the highest number of positive covid_19 sicks is: NY\n"
     ]
    }
   ],
   "source": [
    "# 6\n",
    "highest_sicks= ex2_data[ex2_data[\"positive\"]== ex2_data[\"positive\"].max()]['state']\n",
    "max_positive_country = (max_positive.to_string()[-2:])\n",
    "print('The state with the highest number of positive covid_19 sicks is:',(max_positive_country))\n"
   ]
  },
  {
   "cell_type": "code",
   "execution_count": 218,
   "metadata": {},
   "outputs": [
    {
     "name": "stdout",
     "output_type": "stream",
     "text": [
      "The states with over 5000 positive and negative for covid_19 are: \n",
      "        positive  negative\n",
      "state                    \n",
      "AL       6687.0   69140.0\n",
      "AZ       6948.0   60490.0\n",
      "CA      45031.0  532577.0\n",
      "CO      13879.0   52462.0\n",
      "CT      26312.0   66433.0\n",
      "FL      32846.0  334029.0\n",
      "GA      24615.0  115405.0\n",
      "IA       6376.0   33447.0\n",
      "IL      48102.0  194087.0\n",
      "IN      16588.0   70593.0\n",
      "LA      27286.0  123822.0\n",
      "MA      58302.0  196198.0\n",
      "MD      20113.0   87672.0\n",
      "MI      39262.0  125543.0\n",
      "MO       7303.0   66200.0\n",
      "MS       6342.0   58070.0\n",
      "NC       9568.0  103184.0\n",
      "NJ     113856.0  120503.0\n",
      "NY     295106.0  549888.0\n",
      "OH      16128.0  106578.0\n",
      "PA      43264.0  165824.0\n",
      "RI       7926.0   49767.0\n",
      "SC       5613.0   46532.0\n",
      "TN      10052.0  151876.0\n",
      "TX      26171.0  274213.0\n",
      "VA      13794.0   68959.0\n",
      "WA      13686.0  165993.0\n",
      "WI       6289.0   63535.0\n"
     ]
    }
   ],
   "source": [
    "# 7\n",
    "max_state = ex2_data[[\"state\",'positive','negative']].groupby([\"state\"]).max()\n",
    "state_list = max_state[(max_state[\"positive\"] >5000) & (max_state[\"negative\"]>5000)]\n",
    "print(\"The states with over 5000 positive and negative for covid_19 are:\",'\\n',\n",
    "      state_list)"
   ]
  },
  {
   "cell_type": "code",
   "execution_count": 190,
   "metadata": {},
   "outputs": [
    {
     "name": "stdout",
     "output_type": "stream",
     "text": [
      "the standard diviation in USA for recovered    26187.493705\n",
      "dtype: float64\n"
     ]
    }
   ],
   "source": [
    "# 8\n",
    "std_usa = ex2_data[[\"date\",\"recovered\"]].groupby([\"date\"]).sum().std()\n",
    "print(\"the standard diviation in USA for\", std_usa)\n"
   ]
  },
  {
   "cell_type": "markdown",
   "metadata": {},
   "source": [
    "##### \n",
    "according to the fact that the standard diviation of the recovered is 26187 we can conclude that the variance is pretty high and the virus effects diffrently on  different segments/ages\n",
    "\n",
    "if the standard diviation was lower we could have conclude that the virus is effecting almost the same on differnt populations\n"
   ]
  },
  {
   "cell_type": "code",
   "execution_count": 4,
   "metadata": {},
   "outputs": [
    {
     "data": {
      "text/plain": [
       "Text(0, 0.5, 'recovered')"
      ]
     },
     "execution_count": 4,
     "metadata": {},
     "output_type": "execute_result"
    },
    {
     "data": {
      "image/png": "[encoded data removed]",
      "text/plain": [
       "<Figure size 432x288 with 1 Axes>"
      ]
     },
     "metadata": {
      "needs_background": "light"
     },
     "output_type": "display_data"
    }
   ],
   "source": [
    "# 9\n",
    "import matplotlib as mp\n",
    "import matplotlib.pyplot as plt\n",
    "\n",
    "plt.scatter (x=ex2_data[\"positive\"], y=ex2_data[\"recovered\"],c=\"red\" )\n",
    "plt.title (\"positive vs recovered\")\n",
    "plt.xlabel (\"positive\")\n",
    "plt.ylabel (\"recovered\")"
   ]
  },
  {
   "cell_type": "markdown",
   "metadata": {},
   "source": [
    "we can see that as long as the number of positive for covid_19 is relativly low the number of recovered as a liner connection to the number of the positive.\n",
    "when the number of the positives is close to 200000 the slop of the number of the recovered is getting smaller.\n",
    "we can assume that it is happening because there's a specific number of patients that the hospitals can take care of."
   ]
  },
  {
   "cell_type": "markdown",
   "metadata": {},
   "source": [
    "# part 3"
   ]
  },
  {
   "cell_type": "code",
   "execution_count": 5,
   "metadata": {},
   "outputs": [],
   "source": [
    "# 10\n",
    "ex2_data.fillna(ex2_data.mean(),inplace = True)\n",
    "#ex2_data.isna().sum()"
   ]
  },
  {
   "cell_type": "code",
   "execution_count": 6,
   "metadata": {},
   "outputs": [],
   "source": [
    "# 11\n",
    "from sklearn.preprocessing import LabelEncoder\n",
    "labelEncoder = LabelEncoder()\n",
    "labelEncoder.fit(ex2_data[\"state\"])\n",
    "ex2_data[\"state\"] = labelEncoder.transform(ex2_data['state'])\n",
    "#print (ex2_data[\"state\"])"
   ]
  },
  {
   "cell_type": "code",
   "execution_count": 7,
   "metadata": {},
   "outputs": [],
   "source": [
    "# 12\n",
    "from sklearn.preprocessing import MinMaxScaler\n",
    "scaler = MinMaxScaler()\n",
    "X_normalize = pd.DataFrame(scaler.fit_transform(ex2_data))\n",
    "#print (X_normalize)"
   ]
  },
  {
   "cell_type": "markdown",
   "metadata": {},
   "source": [
    "# Part 4"
   ]
  },
  {
   "cell_type": "code",
   "execution_count": 10,
   "metadata": {},
   "outputs": [],
   "source": [
    "# 13\n",
    "from sklearn.cluster import KMeans\n",
    "def create_kmeans_classifier(k):\n",
    "    if k >=1  and k%1 == 0:\n",
    "        return KMeans(n_clusters = k)\n"
   ]
  },
  {
   "cell_type": "code",
   "execution_count": 14,
   "metadata": {},
   "outputs": [],
   "source": [
    "# 14+15+16\n",
    "from sklearn.metrics import silhouette_score\n",
    "k_Range = range(2,16)\n",
    "norm_score = []\n",
    "data_score = []\n",
    "centroeid = []\n",
    "for i in (k_Range): #14\n",
    "    train_data = create_kmeans_classifier(i).fit_predict(ex2_data)\n",
    "    train_norm = create_kmeans_classifier(i).fit_predict(X_normalize)\n",
    "    norm_centroeid = create_kmeans_classifier(i).fit(X_normalize)\n",
    "    norm_score.append(silhouette_score(X_normalize,train_norm)) #15\n",
    "    data_score.append(silhouette_score(ex2_data,train_data)) #16\n",
    "    centroeid.append(norm_centroeid.cluster_centers_)\n",
    "#print (norm_score, \"  \", data_score)\n",
    "\n",
    "#print (centroeid)"
   ]
  },
  {
   "cell_type": "code",
   "execution_count": 334,
   "metadata": {},
   "outputs": [
    {
     "name": "stdout",
     "output_type": "stream",
     "text": [
      "There are 14 K's in each list \n",
      "\n",
      "Norm list: \n",
      " [0.41539747546672123, 0.43095774396750186, 0.4070440777412199, 0.41613831087848596, 0.4273333729211229, 0.43542326484701566, 0.45289414015275237, 0.4599541978787393, 0.4499736444002245, 0.45980799492053626, 0.4429084272240886, 0.42312946310833605, 0.4503367868607287, 0.4523114212661443] \n",
      " Data list: \n",
      " [0.8353567488287343, 0.791808485787439, 0.691909948661198, 0.6783325419805292, 0.6739059666347814, 0.6410773208287947, 0.6443848060258726, 0.5749484745535065, 0.5738527841524365, 0.5737478884284273, 0.5763621562343957, 0.6326815292995643, 0.6305839706792582, 0.627631420988179]\n"
     ]
    }
   ],
   "source": [
    "#17\n",
    "if len(norm_score) == len(data_score) & len(norm_score) ==14:\n",
    "    print (\"There are 14 K's in each list\", \"\\n\")\n",
    "print (\"Norm list:\",\"\\n\" ,norm_score,\"\\n\", \"Data list:\",\"\\n\", data_score)"
   ]
  },
  {
   "cell_type": "markdown",
   "metadata": {},
   "source": [
    "# part 5"
   ]
  },
  {
   "cell_type": "code",
   "execution_count": 390,
   "metadata": {},
   "outputs": [
    {
     "data": {
      "image/png": "[encoded data removed]",
      "text/plain": [
       "<Figure size 432x288 with 1 Axes>"
      ]
     },
     "metadata": {
      "needs_background": "light"
     },
     "output_type": "display_data"
    }
   ],
   "source": [
    "# 18\n",
    "cor = ex2_data[\"recovered\"].corr( ex2_data[\"death\"])\n",
    "#print (round(cor, 3))\n",
    "plt.scatter (x= ex2_data[\"recovered\"],y= ex2_data[\"death\"],c=\"green\",marker =\"^\")\n",
    "plt.title (\"Recovered vs deaths in USA, corr = 0.844\")\n",
    "plt.xlabel (\"Recovered\")\n",
    "plt.ylabel (\"Deaths\")\n",
    "plt.grid()"
   ]
  },
  {
   "cell_type": "code",
   "execution_count": 470,
   "metadata": {},
   "outputs": [
    {
     "data": {
      "image/png": "[encoded data removed]",
      "text/plain": [
       "<Figure size 432x288 with 1 Axes>"
      ]
     },
     "metadata": {
      "needs_background": "light"
     },
     "output_type": "display_data"
    }
   ],
   "source": [
    "# 19\n",
    "yticks = [0.4,0.6,0.8,0.9]\n",
    "plt.plot(range(1,15),data_score,\"yp--\")\n",
    "plt.title(\"Silhouette score for each K (Real data)\")\n",
    "plt.ylabel(\"Silhouette Score\")\n",
    "plt.xlabel(\"Number of K's\")\n",
    "plt.yticks (yticks)\n",
    "plt.grid()\n"
   ]
  },
  {
   "cell_type": "code",
   "execution_count": 471,
   "metadata": {},
   "outputs": [
    {
     "data": {
      "image/png": "[encoded data removed]",
      "text/plain": [
       "<Figure size 432x288 with 1 Axes>"
      ]
     },
     "metadata": {
      "needs_background": "light"
     },
     "output_type": "display_data"
    }
   ],
   "source": [
    "# 20\n",
    "plt.plot(range(1,15),norm_score,\"gp--\")\n",
    "plt.title(\"Silhouette score for each K (Normalized data)\")\n",
    "plt.ylabel(\"Silhouette Score\")\n",
    "plt.xlabel(\"Number of K's\")\n",
    "plt.yticks (ticks)\n",
    "plt.grid()\n"
   ]
  },
  {
   "cell_type": "code",
   "execution_count": 472,
   "metadata": {},
   "outputs": [
    {
     "data": {
      "image/png": "[encoded data removed]",
      "text/plain": [
       "<Figure size 432x288 with 1 Axes>"
      ]
     },
     "metadata": {
      "needs_background": "light"
     },
     "output_type": "display_data"
    }
   ],
   "source": [
    "# 20- visualization for myself not part of the assignment \n",
    "plt.plot (range(1,15),norm_score,\"gp--\",range(1,15),data_score,\"yp--\")\n",
    "plt.title (\"Real Data vs Normalized\")\n",
    "plt.ylabel(\"Silhouette Score\")\n",
    "plt.xlabel(\"Number of K's\")\n",
    "plt.yticks (ticks)\n",
    "plt.grid()\n"
   ]
  },
  {
   "cell_type": "markdown",
   "metadata": {},
   "source": [
    "#20 \n",
    "\n",
    "as we can see from the two grahps, the normalization of the data making the silhouette's score much lower for each k.\n",
    "on the other hand, when we are normalizing the data the socres for the k's are more similar to each other and we can compere the groups in this data for differnt k's from the origianl data.  "
   ]
  },
  {
   "cell_type": "code",
   "execution_count": 481,
   "metadata": {},
   "outputs": [
    {
     "data": {
      "image/png": "[encoded data removed]",
      "text/plain": [
       "<Figure size 432x288 with 1 Axes>"
      ]
     },
     "metadata": {
      "needs_background": "light"
     },
     "output_type": "display_data"
    }
   ],
   "source": [
    "#21\n",
    "highest_rec_state = ex2_data.loc[ex2_data.state==ex2_data.groupby('state').sum().idxmax(axis=0)['recovered']]\n",
    "plt.scatter (x= highest_rec_state[\"positive\"],y=highest_rec_state['negative'],c=\"black\",marker =\"*\") \n",
    "plt.title ('Positive vs Negative for covid_19 in NY')\n",
    "plt.xlabel (\"Number of positive\")\n",
    "plt.ylabel (\"Number of negative\")\n",
    "plt.grid()"
   ]
  },
  {
   "cell_type": "code",
   "execution_count": 53,
   "metadata": {},
   "outputs": [
    {
     "data": {
      "image/png": "[encoded data removed]",
      "text/plain": [
       "<Figure size 432x288 with 1 Axes>"
      ]
     },
     "metadata": {
      "needs_background": "light"
     },
     "output_type": "display_data"
    }
   ],
   "source": [
    "# 22\n",
    "\n",
    "min_pos_state = ex2_data.loc[ex2_data.state==ex2_data.groupby('state').sum().idxmin(axis=0)['recovered']]\n",
    "\n",
    "plt.plot ( (min_pos_state[\"negative\"]) / (min_pos_state['death']),\"p--\")\n",
    "plt.title ('Negative vs Deaths ratio (State minimum positive for covid_19)')\n",
    "plt.xlabel (\"Number of negative\")\n",
    "plt.ylabel (\"Number of Deaths\")\n",
    "plt.grid()"
   ]
  },
  {
   "cell_type": "markdown",
   "metadata": {},
   "source": [
    "# part 6"
   ]
  },
  {
   "cell_type": "code",
   "execution_count": 25,
   "metadata": {},
   "outputs": [],
   "source": [
    "#1 \n",
    " \n",
    "list1= [1,2,3,4,5,6,7,8,9,10,11,12,13,14]\n",
    "\n",
    "df1 = pd.DataFrame([list1, data_score],\n",
    "                  index = ['K','Score'],\n",
    "                  columns = list1)\n",
    "df1.to_excel(\"Silhouette_rates_{}.xlsx\")  \n",
    "\n",
    "df2 = pd.DataFrame([list1, norm_score],\n",
    "                  index = ['K','Score'],\n",
    "                  columns = list1)\n",
    "df2.to_excel(\"Silhouette_rates_normalized .xlsx\")  "
   ]
  },
  {
   "cell_type": "code",
   "execution_count": 27,
   "metadata": {},
   "outputs": [],
   "source": [
    "## 2\n",
    "ex2_data.to_excel(\"data_{}.xlsx\")\n",
    "X_normalize.to_excel(\"dataa_normalized.xlsx\")"
   ]
  },
  {
   "cell_type": "code",
   "execution_count": 34,
   "metadata": {},
   "outputs": [],
   "source": [
    "# 3\n",
    "import xlwt\n",
    "book1 = xlwt.Workbook()\n",
    "sheet1 = book1.add_sheet('cent_score',cell_overwrite_ok =True)\n",
    "c = 0 \n",
    "r =2 \n",
    "\n",
    "for i in norm_score:\n",
    "    sheet1.write (0,c,label =r)\n",
    "    r = r+1\n",
    "    c = c +1 \n",
    "for i in range(len(centroeid)):\n",
    "    for j in range(len(centroeid[i])):\n",
    "        sheet1.write(j+1,i,label =','.join(cent))\n",
    "        \n",
    "\n",
    "book1.save(\"centroids.xls\")"
   ]
  }
 ],
 "metadata": {
  "kernelspec": {
   "display_name": "Python 3",
   "language": "python",
   "name": "python3"
  },
  "language_info": {
   "codemirror_mode": {
    "name": "ipython",
    "version": 3
   },
   "file_extension": ".py",
   "mimetype": "text/x-python",
   "name": "python",
   "nbconvert_exporter": "python",
   "pygments_lexer": "ipython3",
   "version": "3.7.6"
  }
 },
 "nbformat": 4,
 "nbformat_minor": 4
}
